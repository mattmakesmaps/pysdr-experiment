{
 "cells": [
  {
   "cell_type": "markdown",
   "metadata": {},
   "source": [
    "# Chapter 03 IQ Sampling"
   ]
  },
  {
   "cell_type": "markdown",
   "metadata": {},
   "source": [
    "**Takeaway:** The minimum sampling rate (Nyquist Rate) needs to be two times as fast as the highest frequency component.\n",
    "\n",
    "Many SRDs will automatically filter out any frequency higher then half the sample rate."
   ]
  },
  {
   "cell_type": "markdown",
   "metadata": {},
   "source": [
    "# Quadrature Sampling\n",
    "\n",
    "- Summing a `sin` and `cos` wave produces a third sine wave. By only adjusting the amplitude of the input waves, we can adjust both the phase and amplitude of the third summed wave."
   ]
  },
  {
   "cell_type": "code",
   "execution_count": null,
   "metadata": {
    "vscode": {
     "languageId": "plaintext"
    }
   },
   "outputs": [],
   "source": [
    "- \"Phasor Diagram\": A way to plot complex numbers by treating them as vectors.\n",
    "\n",
    "- It looks like each point represents a wave, that is the sum of an I wave and a Q wave.\n",
    "  - Actually, maybe each point represents a \"sample\""
   ]
  },
  {
   "cell_type": "code",
   "execution_count": null,
   "metadata": {
    "vscode": {
     "languageId": "plaintext"
    }
   },
   "outputs": [],
   "source": [
    "We can \"downconvert\" a signal to center it around 0 Hz. This allows us to sample the signal at a much lower rate.\n",
    "E.g. A 2.4Ghz signal would need to be sampled at 4.8Ghz. Rather, we downconvert it to 0Hz (ie remove the carrier wave)\n",
    "and sample at just twice the bandwidth of the data.\n",
    "\n",
    "**The PlutoSDR can sample at 56MHz**.\n",
    "\n",
    "Downconversion is performed by the mixer (represented by the multiplication sign in diagrams)."
   ]
  },
  {
   "cell_type": "markdown",
   "metadata": {},
   "source": [
    "## Receiver Architectures\n",
    "\n",
    "- This graphic illustrates three configurations for receivers (note the SDR and Superhetrodyne sections). [REF](https://pysdr.org/content/sampling.html#receiver-architectures).\n",
    "  - Note that in this context \"IF\" stands for \"Intermediate Frequency\"."
   ]
  }
 ],
 "metadata": {
  "language_info": {
   "name": "python"
  }
 },
 "nbformat": 4,
 "nbformat_minor": 2
}
